{
 "cells": [
  {
   "cell_type": "code",
   "execution_count": 10,
   "metadata": {},
   "outputs": [
    {
     "name": "stdout",
     "output_type": "stream",
     "text": [
      "Your Marksheet\n",
      "Enter your marks of English out of 100 = 55\n",
      "Enter your marks of Urdu out of 100 = 65\n",
      "Enter your marks of Chemistry out of 100 = 75\n",
      "Enter your marks of Physics out of 100 = 85\n",
      "Enter your marks of Maths out of 100 = 95\n",
      "Your Total Marks are 375\n",
      "Your Percentage is 75.0\n",
      "Congratulations! You have secured Grade A\n"
     ]
    }
   ],
   "source": [
    "print(\"Your Marksheet\")\n",
    "English= int(input(\"Enter your marks of English out of 100 = \"))\n",
    "Urdu= int(input(\"Enter your marks of Urdu out of 100 = \"))\n",
    "Islamiat= int(input(\"Enter your marks of Chemistry out of 100 = \"))\n",
    "Physics= int(input(\"Enter your marks of Physics out of 100 = \"))\n",
    "Maths= int(input(\"Enter your marks of Maths out of 100 = \"))\n",
    "Total_marks= English+Urdu+Islamiat+Physics+Maths\n",
    "Percentage= (Total_marks/500)*100\n",
    "print(\"Your Total Marks are \" + str(Total_marks))\n",
    "print(\"Your Percentage is\" + \" \" + str(Percentage))\n",
    "if Percentage >= 80 and Percentage <=100:\n",
    " print(\"Congratulations! You have secured Grade A+\")\n",
    "elif Percentage <80 and Percentage >=70:\n",
    " print(\"Congratulations! You have secured Grade A\")\n",
    "elif Percentage <70 and Percentage >=60:\n",
    " print(\"Congratulations You have secured Grade B\")\n",
    "elif Percentage <60 and Percentage >=50:\n",
    " print(\"Congratulations You have secured Grade C\")\n",
    "elif Percentage <50 and Percentage >=40:\n",
    " print(\"Congratulations You have secured Grade D\")\n",
    "else:\n",
    " print(\"You have failed in examinations\")"
   ]
  },
  {
   "cell_type": "code",
   "execution_count": 11,
   "metadata": {},
   "outputs": [
    {
     "name": "stdout",
     "output_type": "stream",
     "text": [
      "Enter a number: 8\n",
      "It's is an even number.\n"
     ]
    }
   ],
   "source": [
    "num = int(input(\"Enter a number: \"))\n",
    "Number = num % 2\n",
    "if Number > 0:\n",
    "    print(\"It is an odd number.\")\n",
    "else:\n",
    "    print(\"It's is an even number.\")"
   ]
  },
  {
   "cell_type": "code",
   "execution_count": 6,
   "metadata": {},
   "outputs": [
    {
     "name": "stdout",
     "output_type": "stream",
     "text": [
      "The length of list is:  5\n"
     ]
    }
   ],
   "source": [
    "List = [] \n",
    "List.append(\"Pen\") \n",
    "List.append(\"Pencil\") \n",
    "List.append(\"desk\") \n",
    "List.append(\"Chalk\")\n",
    "List.append(\"fan\")\n",
    "print(\"The length of list is: \", len(List))"
   ]
  },
  {
   "cell_type": "code",
   "execution_count": 12,
   "metadata": {},
   "outputs": [
    {
     "name": "stdout",
     "output_type": "stream",
     "text": [
      "346\n"
     ]
    }
   ],
   "source": [
    "List = [19,25,63,45,71,32,5,10,65,11]\n",
    "print(sum (List))"
   ]
  },
  {
   "cell_type": "code",
   "execution_count": 7,
   "metadata": {},
   "outputs": [
    {
     "name": "stdout",
     "output_type": "stream",
     "text": [
      "the Largest Number is : 856\n"
     ]
    }
   ],
   "source": [
    "List = [70,150,75,85,55,11,91,97,318,856,405,605,]\n",
    "print(\"the Largest Number is :\" , max(List))"
   ]
  },
  {
   "cell_type": "code",
   "execution_count": 8,
   "metadata": {},
   "outputs": [
    {
     "name": "stdout",
     "output_type": "stream",
     "text": [
      "1\n",
      "1\n",
      "2\n",
      "3\n"
     ]
    }
   ],
   "source": [
    "a = [1, 1, 2, 3, 5, 8, 13, 21, 34, 55, 89]\n",
    "for i in a:\n",
    "    if i < 5:\n",
    "        print (i)"
   ]
  },
  {
   "cell_type": "code",
   "execution_count": null,
   "metadata": {},
   "outputs": [],
   "source": []
  }
 ],
 "metadata": {
  "kernelspec": {
   "display_name": "Python 3",
   "language": "python",
   "name": "python3"
  },
  "language_info": {
   "codemirror_mode": {
    "name": "ipython",
    "version": 3
   },
   "file_extension": ".py",
   "mimetype": "text/x-python",
   "name": "python",
   "nbconvert_exporter": "python",
   "pygments_lexer": "ipython3",
   "version": "3.7.4"
  }
 },
 "nbformat": 4,
 "nbformat_minor": 2
}
